{
 "cells": [
  {
   "cell_type": "markdown",
   "metadata": {},
   "source": [
    "# Geostrophic adjustment using Oceananigans.ShallowWaterModel\n",
    "\n",
    "See: https://clima.github.io/OceananigansDocumentation/stable/ and https://clima.github.io/OceananigansDocumentation/stable/generated/geostrophic_adjustment/\n",
    "\n",
    "Geostrophic adjustment in a rectangle using the 1-layer RSW equations\n",
    "\n",
    "# Install dependencies\n",
    "\n",
    " First let's make sure we have all required packages installed."
   ]
  },
  {
   "cell_type": "code",
   "execution_count": 1,
   "metadata": {},
   "outputs": [],
   "source": [
    "using Oceananigans\n",
    "using Oceananigans.Units\n",
    "using Oceananigans.Models: ShallowWaterModel\n",
    "using Printf\n",
    "export @printf, @sprintf, Printf\n",
    "using Makie, GLMakie\n",
    "using JLD2"
   ]
  },
  {
   "cell_type": "markdown",
   "metadata": {},
   "source": [
    "# Define rectangular domain\n",
    "\n",
    "We use a one-dimensional domain of geophysical proportions and geophysical parameters appropriate for the mid-latitudes on Earth."
   ]
  },
  {
   "cell_type": "code",
   "execution_count": 2,
   "metadata": {},
   "outputs": [
    {
     "name": "stdout",
     "output_type": "stream",
     "text": [
      "Channel length            = [512.00] km \n",
      "Channel width             = [512.00] km \n",
      "Deformation radius        = [128.10] km \n",
      "Layer thickness           = [16.7274] m \n",
      "Grid resolution           = [128 x 128 x 4096] [Nx x Ny x Nt]\n",
      "Δη                        = [0.0010] m \n",
      "Velocity scale            = [0.0008] m s⁻¹\n",
      "Gravity wave speed        = [12.8100] m s⁻¹\n",
      "Damping timescale         = [231481.4815] days \n",
      "Rossby number             = [0.0001] \n",
      "Inverse Froude number     = [   15.98]\n",
      "Non-dim. deformation rad. = [    0.25]\n",
      "Timescale                 = [    0.46] days\n"
     ]
    }
   ],
   "source": [
    "#Lᵣ = 8kilometers           # Strong rotation, F = 4096\n",
    "#Lᵣ = 32kilometers          # Moderate rotation\n",
    "#Lᵣ = 64.05kilometers       # Weak rotation, F = 64\n",
    "Lᵣ = 2*64.05kilometers       # Weak rotation, F = 16\n",
    "#Lᵣ = 256.05kilometers      # Weak rotation, F = 4\n",
    "#Lᵣ = 512kilometers         # Weak rotation, F = 1\n",
    "f = 1e-4\n",
    "g = 9.81\n",
    "Δη = 0.001meters\n",
    "H = ((f*Lᵣ)^2)/g\n",
    "U = (Δη*g)/(Lᵣ*f)\n",
    "Rₒ = U/(f*Lᵣ)\n",
    "Lx = 512kilometers  # Let Lx >= Ly (wlog)\n",
    "#Ly = 32kilometers\n",
    "Ly = 512kilometers\n",
    "gravity_wave_speed = sqrt(g * H) # hydrostatic (shallow water) gravity wave speed\n",
    "timescale = Lx/gravity_wave_speed\n",
    "damping_timescale = 2e6/f  # Dimensional damping time\n",
    "\n",
    "# Nx, Ny, Nt = 128,128,2048\n",
    "Nx, Ny, Nt = 128,128,4096\n",
    "#Nx, Ny, Nt = 256,256,2048\n",
    "#Nx, Ny, Nt = 128,16,4096\n",
    "\n",
    "damping = Relaxation(rate = 1/damping_timescale)\n",
    "\n",
    "grid = RectilinearGrid(size = (Nx, Ny),\n",
    "                              x = (-Lx/2, Lx/2), y = (-Ly/2, Ly/2),\n",
    "                              topology = (Bounded, Bounded, Flat)) \n",
    "@printf(\"Channel length            = [%2.2f] km \\n\", Lx/1e3)\n",
    "@printf(\"Channel width             = [%2.2f] km \\n\", Ly/1e3)\n",
    "@printf(\"Deformation radius        = [%3.2f] km \\n\", Lᵣ/1e3)\n",
    "@printf(\"Layer thickness           = [%2.4f] m \\n\", H)\n",
    "@printf(\"Grid resolution           = [%2.0d x %2.0d x %2.0d] [Nx x Ny x Nt]\\n\", Nx, Ny, Nt)\n",
    "@printf(\"Δη                        = [%2.4f] m \\n\", Δη)\n",
    "@printf(\"Velocity scale            = [%2.4f] m s⁻¹\\n\", U)\n",
    "@printf(\"Gravity wave speed        = [%2.4f] m s⁻¹\\n\", gravity_wave_speed)\n",
    "@printf(\"Damping timescale         = [%2.4f] days \\n\", damping_timescale / days)\n",
    "@printf(\"Rossby number             = [%2.4f] \\n\", Rₒ)\n",
    "@printf(\"Inverse Froude number     = [%8.2f]\\n\",Lx^2/Lᵣ^2)\n",
    "@printf(\"Non-dim. deformation rad. = [%8.2f]\\n\",Lᵣ/Lx)\n",
    "@printf(\"Timescale                 = [%8.2f] days\\n\",timescale/86400)"
   ]
  },
  {
   "cell_type": "markdown",
   "metadata": {},
   "source": [
    "# Build a `ShallowWaterModel`"
   ]
  },
  {
   "cell_type": "code",
   "execution_count": 3,
   "metadata": {},
   "outputs": [
    {
     "name": "stderr",
     "output_type": "stream",
     "text": [
      "┌ Warning: defaulting to uniform WENO scheme with Float64 precision, use WENO5(grid = grid) if this was not intended\n",
      "└ @ Oceananigans.Advection /Users/thaine1/.julia/packages/Oceananigans/PA1TE/src/Advection/weno_fifth_order.jl:144\n"
     ]
    },
    {
     "data": {
      "text/plain": [
       "ShallowWaterModel{typename(CPU), Float64}(time = 0 seconds, iteration = 0) \n",
       "├── grid: 128×128×1 RectilinearGrid{Float64, Bounded, Bounded, Flat} on CPU with 3×3×0 halo\n",
       "├── tracers: ()\n",
       "└── coriolis: FPlane{Float64}"
      ]
     },
     "metadata": {},
     "output_type": "display_data"
    }
   ],
   "source": [
    "model = ShallowWaterModel(\n",
    "    timestepper=:RungeKutta3,\n",
    "    advection=WENO5(),\n",
    "    grid=grid,\n",
    "    gravitational_acceleration=g,\n",
    "    coriolis=FPlane(f=f),\n",
    "    forcing=(uh=damping, vh=damping))"
   ]
  },
  {
   "cell_type": "markdown",
   "metadata": {},
   "source": [
    "# A geostrophic adjustment initial value problem\n",
    "\n",
    "We pose a geostrophic adjustment problem that consists of an initial hyperbolic tangent height field, resembling the Rossby step"
   ]
  },
  {
   "cell_type": "code",
   "execution_count": 4,
   "metadata": {},
   "outputs": [
    {
     "data": {
      "text/plain": [
       "BinaryOperation at (Center, Center, Center)\n",
       "├── grid: 128×128×1 RectilinearGrid{Float64, Bounded, Bounded, Flat} on CPU with 3×3×0 halo\n",
       "└── tree: \n",
       "    / at (Center, Center, Center)\n",
       "    ├── / at (Center, Center, Center)\n",
       "    │   ├── 129×129×1 Array{Float64, 3}\n",
       "    │   └── 128×128×1 Field{Center, Center, Center} on RectilinearGrid on CPU\n",
       "    └── 5.9782042352012025e-6"
      ]
     },
     "metadata": {},
     "output_type": "display_data"
    }
   ],
   "source": [
    "Tanh(x, L) = tanh(x/L)\n",
    "\n",
    "#ΔL = Lx / (Nx/4)  # tanh width\n",
    "ΔL = Lx / 8  # tanh width\n",
    "hⁱ(x, y, z) = H + Δη*Tanh(x,ΔL)\n",
    "\n",
    "set!(model, h=hⁱ)\n",
    "uh, vh, h = model.solution\n",
    "        # η = ComputedField((h - H)/Δη)                  # Non-dimensional\n",
    "        # u = ComputedField((uh / h)/U)                  # Non-dimensional\n",
    "        # v = ComputedField((vh / h)/U)                  # Non-dimensional\n",
    "        # ω = ComputedField(((∂x(v) - ∂y(u) / f)/Rₒ))    # Non-dimensional and normalized\n",
    "        # q = ComputedField(((f .+ ω)/h)/(f/H))          # Non-dimensional\n",
    "        η = (h - H)/Δη                  # Non-dimensional\n",
    "        u = (uh / h)/U                  # Non-dimensional\n",
    "        v = (vh / h)/U                  # Non-dimensional\n",
    "        ω = ((∂x(v) - ∂y(u) / f)/Rₒ)    # Non-dimensional and normalized\n",
    "        q = ((f .+ ω)/h)/(f/H)          # Non-dimensional"
   ]
  },
  {
   "cell_type": "markdown",
   "metadata": {},
   "source": [
    "Pick a time-step that resolves the surface dynamics"
   ]
  },
  {
   "cell_type": "code",
   "execution_count": 5,
   "metadata": {},
   "outputs": [
    {
     "name": "stdout",
     "output_type": "stream",
     "text": [
      "Timestep = [0.0008] = [0.0087] hours == [31.2256] seconds.\n"
     ]
    },
    {
     "data": {
      "text/plain": [
       "Simulation of ShallowWaterModel{RectilinearGrid{Float64, Bounded, Bounded, Flat, Float64, Float64, Float64, OffsetArrays.OffsetVector{Float64, StepRangeLen{Float64, Base.TwicePrecision{Float64}, Base.TwicePrecision{Float64}, Int64}}, OffsetArrays.OffsetVector{Float64, StepRangeLen{Float64, Base.TwicePrecision{Float64}, Base.TwicePrecision{Float64}, Int64}}, StepRangeLen{Float64, Base.TwicePrecision{Float64}, Base.TwicePrecision{Float64}, Int64}, CPU}, CPU, Float64, WENO5{Float64, Nothing, Nothing, Nothing, Nothing, Nothing, Nothing, Nothing}, FPlane{Float64}, NamedTuple{(:uh, :vh, :h), Tuple{Oceananigans.Forcings.ContinuousForcing{Face, Center, Center, Nothing, Relaxation{Float64, typeof(Oceananigans.Forcings.onefunction), typeof(Oceananigans.Forcings.zerofunction)}, Tuple{Symbol}, Tuple{Int64}, Tuple{typeof(Oceananigans.Operators.identity1)}}, Oceananigans.Forcings.ContinuousForcing{Center, Face, Center, Nothing, Relaxation{Float64, typeof(Oceananigans.Forcings.onefunction), typeof(Oceananigans.Forcings.zerofunction)}, Tuple{Symbol}, Tuple{Int64}, Tuple{typeof(Oceananigans.Operators.identity2)}}, typeof(Oceananigans.Forcings.zeroforcing)}}, Nothing, Nothing, NamedTuple{(:uh, :vh, :h), Tuple{Field{Face, Center, Center, Nothing, RectilinearGrid{Float64, Bounded, Bounded, Flat, Float64, Float64, Float64, OffsetArrays.OffsetVector{Float64, StepRangeLen{Float64, Base.TwicePrecision{Float64}, Base.TwicePrecision{Float64}, Int64}}, OffsetArrays.OffsetVector{Float64, StepRangeLen{Float64, Base.TwicePrecision{Float64}, Base.TwicePrecision{Float64}, Int64}}, StepRangeLen{Float64, Base.TwicePrecision{Float64}, Base.TwicePrecision{Float64}, Int64}, CPU}, Tuple{Colon, Colon, Colon}, OffsetArrays.OffsetArray{Float64, 3, Array{Float64, 3}}, Float64, FieldBoundaryConditions{BoundaryCondition{Oceananigans.BoundaryConditions.Open, Nothing}, BoundaryCondition{Oceananigans.BoundaryConditions.Open, Nothing}, BoundaryCondition{Oceananigans.BoundaryConditions.Flux, Nothing}, BoundaryCondition{Oceananigans.BoundaryConditions.Flux, Nothing}, Nothing, Nothing, BoundaryCondition{Oceananigans.BoundaryConditions.Flux, Nothing}}, Nothing}, Field{Center, Face, Center, Nothing, RectilinearGrid{Float64, Bounded, Bounded, Flat, Float64, Float64, Float64, OffsetArrays.OffsetVector{Float64, StepRangeLen{Float64, Base.TwicePrecision{Float64}, Base.TwicePrecision{Float64}, Int64}}, OffsetArrays.OffsetVector{Float64, StepRangeLen{Float64, Base.TwicePrecision{Float64}, Base.TwicePrecision{Float64}, Int64}}, StepRangeLen{Float64, Base.TwicePrecision{Float64}, Base.TwicePrecision{Float64}, Int64}, CPU}, Tuple{Colon, Colon, Colon}, OffsetArrays.OffsetArray{Float64, 3, Array{Float64, 3}}, Float64, FieldBoundaryConditions{BoundaryCondition{Oceananigans.BoundaryConditions.Flux, Nothing}, BoundaryCondition{Oceananigans.BoundaryConditions.Flux, Nothing}, BoundaryCondition{Oceananigans.BoundaryConditions.Open, Nothing}, BoundaryCondition{Oceananigans.BoundaryConditions.Open, Nothing}, Nothing, Nothing, BoundaryCondition{Oceananigans.BoundaryConditions.Flux, Nothing}}, Nothing}, Field{Center, Center, Center, Nothing, RectilinearGrid{Float64, Bounded, Bounded, Flat, Float64, Float64, Float64, OffsetArrays.OffsetVector{Float64, StepRangeLen{Float64, Base.TwicePrecision{Float64}, Base.TwicePrecision{Float64}, Int64}}, OffsetArrays.OffsetVector{Float64, StepRangeLen{Float64, Base.TwicePrecision{Float64}, Base.TwicePrecision{Float64}, Int64}}, StepRangeLen{Float64, Base.TwicePrecision{Float64}, Base.TwicePrecision{Float64}, Int64}, CPU}, Tuple{Colon, Colon, Colon}, OffsetArrays.OffsetArray{Float64, 3, Array{Float64, 3}}, Float64, FieldBoundaryConditions{BoundaryCondition{Oceananigans.BoundaryConditions.Flux, Nothing}, BoundaryCondition{Oceananigans.BoundaryConditions.Flux, Nothing}, BoundaryCondition{Oceananigans.BoundaryConditions.Flux, Nothing}, BoundaryCondition{Oceananigans.BoundaryConditions.Flux, Nothing}, Nothing, Nothing, BoundaryCondition{Oceananigans.BoundaryConditions.Flux, Nothing}}, Nothing}}}, NamedTuple{(), Tuple{}}, Nothing, Oceananigans.TimeSteppers.RungeKutta3TimeStepper{Float64, NamedTuple{(:uh, :vh, :h), Tuple{Field{Face, Center, Center, Nothing, RectilinearGrid{Float64, Bounded, Bounded, Flat, Float64, Float64, Float64, OffsetArrays.OffsetVector{Float64, StepRangeLen{Float64, Base.TwicePrecision{Float64}, Base.TwicePrecision{Float64}, Int64}}, OffsetArrays.OffsetVector{Float64, StepRangeLen{Float64, Base.TwicePrecision{Float64}, Base.TwicePrecision{Float64}, Int64}}, StepRangeLen{Float64, Base.TwicePrecision{Float64}, Base.TwicePrecision{Float64}, Int64}, CPU}, Tuple{Colon, Colon, Colon}, OffsetArrays.OffsetArray{Float64, 3, Array{Float64, 3}}, Float64, FieldBoundaryConditions{Nothing, Nothing, BoundaryCondition{Oceananigans.BoundaryConditions.Flux, Nothing}, BoundaryCondition{Oceananigans.BoundaryConditions.Flux, Nothing}, Nothing, Nothing, BoundaryCondition{Oceananigans.BoundaryConditions.Flux, Nothing}}, Nothing}, Field{Center, Face, Center, Nothing, RectilinearGrid{Float64, Bounded, Bounded, Flat, Float64, Float64, Float64, OffsetArrays.OffsetVector{Float64, StepRangeLen{Float64, Base.TwicePrecision{Float64}, Base.TwicePrecision{Float64}, Int64}}, OffsetArrays.OffsetVector{Float64, StepRangeLen{Float64, Base.TwicePrecision{Float64}, Base.TwicePrecision{Float64}, Int64}}, StepRangeLen{Float64, Base.TwicePrecision{Float64}, Base.TwicePrecision{Float64}, Int64}, CPU}, Tuple{Colon, Colon, Colon}, OffsetArrays.OffsetArray{Float64, 3, Array{Float64, 3}}, Float64, FieldBoundaryConditions{BoundaryCondition{Oceananigans.BoundaryConditions.Flux, Nothing}, BoundaryCondition{Oceananigans.BoundaryConditions.Flux, Nothing}, Nothing, Nothing, Nothing, Nothing, BoundaryCondition{Oceananigans.BoundaryConditions.Flux, Nothing}}, Nothing}, Field{Center, Center, Center, Nothing, RectilinearGrid{Float64, Bounded, Bounded, Flat, Float64, Float64, Float64, OffsetArrays.OffsetVector{Float64, StepRangeLen{Float64, Base.TwicePrecision{Float64}, Base.TwicePrecision{Float64}, Int64}}, OffsetArrays.OffsetVector{Float64, StepRangeLen{Float64, Base.TwicePrecision{Float64}, Base.TwicePrecision{Float64}, Int64}}, StepRangeLen{Float64, Base.TwicePrecision{Float64}, Base.TwicePrecision{Float64}, Int64}, CPU}, Tuple{Colon, Colon, Colon}, OffsetArrays.OffsetArray{Float64, 3, Array{Float64, 3}}, Float64, FieldBoundaryConditions{BoundaryCondition{Oceananigans.BoundaryConditions.Flux, Nothing}, BoundaryCondition{Oceananigans.BoundaryConditions.Flux, Nothing}, BoundaryCondition{Oceananigans.BoundaryConditions.Flux, Nothing}, BoundaryCondition{Oceananigans.BoundaryConditions.Flux, Nothing}, Nothing, Nothing, BoundaryCondition{Oceananigans.BoundaryConditions.Flux, Nothing}}, Nothing}}}, Nothing}}\n",
       "├── Next time step: 31.226 seconds\n",
       "├── Elapsed wall time: 0 seconds\n",
       "├── Stop time: Inf years\n",
       "├── Stop iteration : 4096.0\n",
       "├── Wall time limit: Inf\n",
       "├── Callbacks: OrderedDict with 4 entries:\n",
       "│   ├── stop_time_exceeded => Callback of stop_time_exceeded on IterationInterval(1)\n",
       "│   ├── stop_iteration_exceeded => Callback of stop_iteration_exceeded on IterationInterval(1)\n",
       "│   ├── wall_time_limit_exceeded => Callback of wall_time_limit_exceeded on IterationInterval(1)\n",
       "│   └── nan_checker => Callback of NaNChecker for uh on IterationInterval(100)\n",
       "├── Output writers: OrderedDict with no entries\n",
       "└── Diagnostics: OrderedDict with no entries"
      ]
     },
     "metadata": {},
     "output_type": "display_data"
    }
   ],
   "source": [
    "wave_propagation_time_scale = model.grid.Δxᶜᵃᵃ / gravity_wave_speed\n",
    "timestep = 0.1 * wave_propagation_time_scale\n",
    "@printf(\"Timestep = [%6.4f] = [%6.4f] hours == [%6.4f] seconds.\\n\",timestep/timescale,timestep/3600,timestep)\n",
    "simulation = Simulation(model, Δt = timestep, stop_iteration = Nt)"
   ]
  },
  {
   "cell_type": "markdown",
   "metadata": {},
   "source": [
    "# Select output and run simulation\n",
    "\n",
    " We output the velocity field and free surface displacement, vorticity and PV."
   ]
  },
  {
   "cell_type": "code",
   "execution_count": 6,
   "metadata": {},
   "outputs": [
    {
     "name": "stdout",
     "output_type": "stream",
     "text": [
      "341.633185 seconds (888.36 M allocations: 753.068 GiB, 40.56% gc time, 17.80% compilation time)\n"
     ]
    },
    {
     "name": "stderr",
     "output_type": "stream",
     "text": [
      "┌ Info: Initializing simulation...\n",
      "└ @ Oceananigans.Simulations /Users/thaine1/.julia/packages/Oceananigans/PA1TE/src/Simulations/run.jl:168\n",
      "┌ Info:     ... simulation initialization complete (26.451 seconds)\n",
      "└ @ Oceananigans.Simulations /Users/thaine1/.julia/packages/Oceananigans/PA1TE/src/Simulations/run.jl:203\n",
      "┌ Info: Executing initial time step...\n",
      "└ @ Oceananigans.Simulations /Users/thaine1/.julia/packages/Oceananigans/PA1TE/src/Simulations/run.jl:113\n",
      "┌ Info:     ... initial time step complete (23.428 seconds).\n",
      "└ @ Oceananigans.Simulations /Users/thaine1/.julia/packages/Oceananigans/PA1TE/src/Simulations/run.jl:120\n",
      "┌ Info: Simulation is stopping. Model iteration 4096 has hit or exceeded simulation stop iteration 4096.\n",
      "└ @ Oceananigans.Simulations /Users/thaine1/.julia/packages/Oceananigans/PA1TE/src/Simulations/simulation.jl:156\n"
     ]
    }
   ],
   "source": [
    "output_fields = merge(model.solution, (η=η,u=u,v=v,ω=ω,q=q))\n",
    "simulation.output_writers[:fields] = JLD2OutputWriter(model, output_fields,\n",
    "                                                      schedule = IterationInterval(8),\n",
    "                                                      prefix = \"RSW_geostrophic_adjustment\",\n",
    "                                                      force = true)\n",
    "@time run!(simulation)"
   ]
  },
  {
   "cell_type": "markdown",
   "metadata": {},
   "source": [
    "# Visualize the results"
   ]
  },
  {
   "cell_type": "code",
   "execution_count": 7,
   "metadata": {},
   "outputs": [
    {
     "name": "stdout",
     "output_type": "stream",
     "text": [
      "Making animation of time dependent solution:\n",
      "Writing output to [RSW_geostrophic_adjustment.mp4] with [4096] steps of length [31.225605]s and final time = [127900.0781].\n"
     ]
    },
    {
     "data": {
      "text/plain": [
       "\"RSW_geostrophic_adjustment.mp4\""
      ]
     },
     "metadata": {},
     "output_type": "display_data"
    }
   ],
   "source": [
    "xη, yη = xnodes(η), ynodes(η)\n",
    "videofile = \"RSW_geostrophic_adjustment.mp4\"\n",
    "@printf(\"Making animation of time dependent solution:\\nWriting output to [%s] with [%d] steps of length [%8.6f]s and final time = [%6.4f].\\n\",videofile,Nt,timestep,Nt*timestep)\n",
    "file = jldopen(simulation.output_writers[:fields].filepath)\n",
    "kwargs = (\n",
    "          fillrange = true,\n",
    "        levels = range(-2.2,2.2,length=64),\n",
    "      colormap = :seismic\n",
    "    )\n",
    "iters = parse.(Int, keys(file[\"timeseries/t\"]))\n",
    "\n",
    "# Define observables:\n",
    "iter = Observable(iters[1])\n",
    "u = lift(iter) do iter\n",
    "    u = file[\"timeseries/η/$iter\"][:, :, 1]\n",
    "end\n",
    "\n",
    "tit_txt = lift(iter) do iter\n",
    "    thistime = timestep*iter\n",
    "    tit_txt = @sprintf(\"η at t = %4.2f = %3.1f hours\",thistime/timescale,thistime/3600)    \n",
    "end\n",
    "\n",
    "# Make plot:\n",
    "fig,ax,plt = contourf(xη / Lx, yη / Lx, u, figure = (resolution = (700, 600),),axis = (title = tit_txt, xlabel = L\"x/L_x\",ylabel = L\"y/L_x\",); kwargs...)\n",
    "ax.aspect = DataAspect()\n",
    "Colorbar(fig[1,2],plt)\n",
    "\n",
    "# Control animation:\n",
    "framerate = 30\n",
    "record(fig,videofile, iters; framerate=framerate) do this_iter    \n",
    "    iter[] = this_iter\n",
    "end "
   ]
  }
 ],
 "metadata": {
  "kernelspec": {
   "display_name": "Julia 1.7.2",
   "language": "julia",
   "name": "julia-1.7"
  },
  "language_info": {
   "file_extension": ".jl",
   "mimetype": "application/julia",
   "name": "julia",
   "version": "1.7.2"
  }
 },
 "nbformat": 4,
 "nbformat_minor": 4
}
