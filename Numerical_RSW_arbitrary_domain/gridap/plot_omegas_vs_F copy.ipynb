{
 "cells": [
  {
   "cell_type": "markdown",
   "metadata": {},
   "source": [
    "# Script to diagnose the nature of the eigenvalues from the RSW $\\eta$ modal decompostion\n",
    "### twnh Sep, Oct, Nov '21"
   ]
  },
  {
   "cell_type": "markdown",
   "metadata": {},
   "source": [
    "#### -1. Housekeeping"
   ]
  },
  {
   "cell_type": "code",
   "execution_count": null,
   "metadata": {},
   "outputs": [],
   "source": [
    "using Gridap, GridapGmsh, GridapMakie\n",
    "#using GLMakie\n",
    "#GLMakie.inline!(true)    # Makes sure figures appear in notebook inline.\n",
    "using CairoMakie\n",
    "using LinearAlgebra\n",
    "using NonlinearEigenproblems\n",
    "\n",
    "using Printf\n",
    "using Glob\n",
    "using LaTeXStrings\n",
    "\n",
    "include(\"RSW_ModelFunctions.jl\")     # Function definitions\n",
    "checkEigenFlag = true ;       # Check if eigensolution satisfies original nonlinear eigen problem\n",
    "trimThreshold = 1.0e-6 ;       # Threshold to trim small eigenvalues. Check figures to make sure this is OK."
   ]
  },
  {
   "cell_type": "code",
   "execution_count": null,
   "metadata": {},
   "outputs": [],
   "source": [
    "#domainName = \"square_384nodes_uneven.msh\"\n",
    "#domainName = \"square_803nodes_uneven.msh\"\n",
    "domainName = \"square_145nodes.msh\"\n",
    "#domainName = \"square_514nodes.msh\"\n",
    "#domainName = \"circle_268nodes.msh\"\n",
    "#domainName = \"circle_992nodes.msh\"\n",
    "\n",
    "# The non-dimensionalization sets the longest lengthscale of the non-dimensional domain equal to one.\n",
    " U, V, U∞, V∞, Ω, dΩ, dΓ, t_Γ, n_nodes = DefineProblem(domainName)\n"
   ]
  },
  {
   "cell_type": "code",
   "execution_count": null,
   "metadata": {},
   "outputs": [],
   "source": [
    "\n",
    "# Physical parameters: Avoid integer multiples of these parameters (they can throw off the polynomial eigensolver)\n",
    "#F = (2.0 .^ range(-1.001, 11.001, length = 7))\n",
    "#Fs = (2.0 .^ range(-1.001, 12.001, step = 1.0))\n",
    "Fs = (2.0 .^ range(-1.001, 12.001, step = 0.125/4))\n",
    "#Fs = (2.0 .^ range( 2.001, 5.001, step = 0.125/8))\n",
    " f = 1.0e-4     # s^{-1}\n",
    " g = 9.81     # ms^{-2}\n",
    " L = 512.0e3    # m \n",
    " Lᵣ = sqrt.(L^2 ./ Fs)\n",
    " H = ((f * Lᵣ) .^ 2) ./ g\n",
    " timescale = L ./ sqrt.(g .* H)\n",
    "@printf(\"Coriolis parameter                 = [%8.2e] s^{-1}\\n\", f)\n",
    "@printf(\"Gravitational acceleration         = [%8.2f] ms^{-2}\\n\", g)\n",
    "@printf(\"Layer thickness                    = [%8.1f]--[%8.1f] m\\n\", maximum(H), minimum(H))\n",
    "@printf(\"Domain lengthscale                 = [%8.2f] km\\n\", L / 1e3)\n",
    "@printf(\"Deformation radius                 = [%8.2f]--[%8.2f] km\\n\", maximum(Lᵣ) / 1e3, minimum(Lᵣ) / 1e3)\n",
    "@printf(\"Characteristic timescale           = [%8.2f]--[%8.2f] days.\\n\", maximum(timescale) / 86400, minimum(timescale) / 86400)\n",
    "@printf(\"\\nInverse Froude number            F = [%8.2f]--[%8.2f] (%d of them)\\n\", minimum(Fs), maximum(Fs), size(Fs,1))\n",
    "@printf(\"Non-dimensional deformation rad.   = [%8.2f]--[%8.2f]\\n\", maximum(1 ./ sqrt.(Fs)), minimum(1 ./ sqrt.(Fs)))\n",
    "@printf(\"\\nMesh has                           = [%6.0d] nodes.\\n\", n_nodes)"
   ]
  },
  {
   "cell_type": "code",
   "execution_count": null,
   "metadata": {},
   "outputs": [],
   "source": [
    "# Loop over different F values calculating the eigenmodes\n",
    " NF = size(Fs, 1)\n",
    " nev = 3 * n_nodes\n",
    "ωs = Array{ComplexF64}(undef,nev,NF)\n",
    "ηs = Array{CellField}(undef,nev,NF)\n",
    "for ff = 1:NF\n",
    "    F = Fs[ff]\n",
    "    ω, _, η, _ = solveModesProblem(F)\n",
    "    ωs[1:size(ω,1), ff] = ω\n",
    "    ηs[1:size(η,1), ff] = η\n",
    "end # ff"
   ]
  },
  {
   "cell_type": "code",
   "execution_count": null,
   "metadata": {},
   "outputs": [],
   "source": [
    "# Plot frequencies\n",
    "fig = Figure(resolution = (1600,1600))\n",
    "ax1 = Axis(fig[1, 1], title = \"Eigenvalues vs F\", xlabel = \"F\", ylabel = \"eigenvalues\")\n",
    "lines!(Fs, sqrt.(Fs),linewidth = 4.0)\n",
    "lines!(Fs, sqrt.(Fs) .* 0.025,linewidth = 4.0)\n",
    "for ff = 1:NF\n",
    "    inds = findall(x -> x > 1.0e-8, real(ωs[:,ff]))\n",
    "    scatter!(fig[1, 1], Fs[ff] .* ones(size(inds,1)), real(ωs[inds,ff]), markersize = 2, color = :black)\n",
    "end # ff\n",
    "ax1.xscale = log2\n",
    "ax1.yscale = log10\n",
    "xlims!(ax1,minimum(Fs),maximum(Fs))\n",
    "ylims!(ax1,1e-2,1e3)\n",
    "#display(fig)\n",
    "save(\"output.pdf\",fig)"
   ]
  },
  {
   "cell_type": "code",
   "execution_count": null,
   "metadata": {},
   "outputs": [],
   "source": [
    "# Plot modes\n",
    "#ffs = 1:2:NF  # F numbers (across columns)\n",
    "ffs = 1:64:NF  # F numbers (across columns)\n",
    "mms = 1:8     # modes (down rows)\n",
    "\n",
    "fig2 = Figure(resolution = (1600, 2000), font =:sans)\n",
    "for (jj,ff) in zip(1:size(ffs,1),ffs)\n",
    "  for (ii,mm) in zip(1:size(mms,1),mms)\n",
    "      thisω = round(real(ωs[mm,ff]),digits=1)\n",
    "      thisF = round(Fs[ff],digits=1)\n",
    "      thisη = abs(ηs[mm,ff])\n",
    "      tit_txt1 = L\"$\\Re ( \\eta_{%$(mm)})$ $\\omega = %$(thisω)$, $F = %$(thisF)$\"\n",
    "      ax2 = Axis(fig2[ii,jj],xlabel=L\"x\",ylabel=L\"y\",title=tit_txt1)        \n",
    "      ax2.aspect = DataAspect()\n",
    "      hidedecorations!(ax2)\n",
    "      plot!(Ω,thisη)\n",
    "  end # for\n",
    "end # for\n",
    "#display(fig2)\n",
    "save(\"output_modes.pdf\",fig2)"
   ]
  },
  {
   "cell_type": "code",
   "execution_count": null,
   "metadata": {},
   "outputs": [],
   "source": [
    "ff = 12\n",
    "this_F = round(Fs[ff],digits=1)\n",
    "global inds = findall(x -> x > 1.0e-12, real(ωs[:,ff]))\n",
    "ω = ωs[inds,ff]\n",
    "\n",
    "fig3 = Figure(resolution = (1200,600))\n",
    "Axis(fig3[1, 1], title = \"Eigenvalue F = $(this_F)\", ylabel = \"eigenvalues\", xlabel = \"eigenvalue index\")\n",
    "tmp = abs.(real(ω))\n",
    "scatter!(fig3[1, 1], tmp, markersize = 4, color = :black)\n",
    "\n",
    "Axis(fig3[1, 2], title = \"Eigenvalue differences F = $(this_F)\", ylabel = \"differences\", xlabel = \"eigenvalue index\")\n",
    "tmp = diff(abs.(real(ω)))\n",
    "scatter!(fig3[1, 2], tmp, markersize = 4, color = :black)\n",
    "\n",
    "ratiom1 = (abs.(ω[2:end]) ./ abs.(ω[1])) .- 1.0\n",
    "Axis(fig3[1, 3], title = \"Eigenvalue ratios  F = $(this_F)\", ylabel = \"ratios\", xlabel = \"eigenvalue index\")\n",
    "scatter!(fig3[1, 3], real(ratiom1), markersize = 4, color = :black)\n",
    "ylims!(1, 2000)\n",
    "#display(fig3)\n",
    "#ratiom1\n",
    "save(\"output3.pdf\",fig3)"
   ]
  }
 ],
 "metadata": {
  "kernelspec": {
   "display_name": "Julia 1.7.2",
   "language": "julia",
   "name": "julia-1.7"
  },
  "language_info": {
   "file_extension": ".jl",
   "mimetype": "application/julia",
   "name": "julia",
   "version": "1.7.2"
  }
 },
 "nbformat": 4,
 "nbformat_minor": 4
}
